{
 "metadata": {
  "name": ""
 },
 "nbformat": 3,
 "nbformat_minor": 0,
 "worksheets": [
  {
   "cells": [
    {
     "cell_type": "raw",
     "metadata": {},
     "source": [
      "Numerical approach is used to solve the mean and standard deviation of the change in the transaction of 25 cents. The target value can be replaced to any desired transaction value, but the computation time will significantly increase with the transaction value."
     ]
    },
    {
     "cell_type": "code",
     "collapsed": false,
     "input": [
      "import math\n",
      "data=[]\n",
      "\n",
      "def change(coinlist, coinset, highest, sum, goal):\n",
      "    if sum >= goal:\n",
      "        coincount=display(coinlist, coinset)\n",
      "        data.append((coinlist,coincount))\n",
      "        return \n",
      "\n",
      "    for value in coinset:\n",
      "        copy = coinlist[:]\n",
      "        copy.append(value)\n",
      "        change(copy, coinset, value, sum + value, goal)\n",
      "\n",
      "def display(coinlist, coinset):\n",
      "    coincount=[]\n",
      "    for value in coinset:\n",
      "        coincount.append(coinlist.count(value))\n",
      "    return coincount\n",
      "\n",
      "coinlist = []\n",
      "coinset = [1, 5, 10, 25, 50]\n",
      "\n",
      "# Begin.\n",
      "target=25\n",
      "change(coinlist, coinset, 0, 0, target)\n",
      "x_list = []\n",
      "change = []\n",
      "prob = []\n",
      "square_error = []\n",
      "p = 0.2\n",
      "for i in range(0, len(data)):\n",
      "    x_list.append(data[i][1])\n",
      "    change.append((x_list[i][0] + 5*x_list[i][1] + 10*x_list[i][2] + 25*x_list[i][3] + 50* x_list[i][4]) - target)\n",
      "    prob.append(pow(p,x_list[i][0])*pow(p,x_list[i][1])*pow(p,x_list[i][2])*pow(p,x_list[i][3])*pow(p,x_list[i][4]))\n",
      "   \n",
      "temp = []\n",
      "for i in range(0, len(data)):\n",
      "    temp.append(change[i]*prob[i])\n",
      "    \n",
      "mean = sum(temp)\n",
      "for i in range(0, len(data)):\n",
      "    square_error.append(((change[i] - mean)**2)*prob[i])\n",
      "\n",
      "sd = math.sqrt(sum(square_error))\n",
      "\n",
      "print(\"Transaction Value = \"+str(target))\n",
      "print(\"Mean = \"+str(mean))\n",
      "print(\"std = \"+str(sd))"
     ],
     "language": "python",
     "metadata": {},
     "outputs": [
      {
       "output_type": "stream",
       "stream": "stdout",
       "text": [
        "Transaction Value = 25\n",
        "Mean = 16.3037430034\n",
        "std = 14.1799224766\n"
       ]
      }
     ],
     "prompt_number": 14
    },
    {
     "cell_type": "raw",
     "metadata": {},
     "source": [
      "Monte Carlo method is used to approximate the mean and the standard deviation of the changes for the three transactions, which equal 25 cents, one dollar, and ten dollar. "
     ]
    },
    {
     "cell_type": "code",
     "collapsed": false,
     "input": [
      "import random\n",
      "import numpy as np\n",
      "\n",
      "Seeds=[325631320,135631328,945435324,545337324,248357324]\n",
      "SEED=Seeds[0];\n",
      "coinset=[1,5,10,25,50]; #coin values in cents\n",
      "\n",
      "def TransactionChange(ItemValue):\n",
      "  TotalValue=0;\n",
      "  while(TotalValue<ItemValue):\n",
      "    TotalValue+=random.choice(coinset);\n",
      "  return TotalValue-ItemValue;\n",
      "\n",
      "def GenerateChangeList(NTrials,ItemValue):\n",
      "  random.seed(SEED);\n",
      "  ChangeList=[TransactionChange(ItemValue) for i in range(NTrials)];\n",
      "  mean=np.mean(ChangeList);\n",
      "  std=np.std(ChangeList);\n",
      "  print(\"NTrials=\"+str(NTrials)+\", \"+\"Transaction Value=\"+str(ItemValue)+\" cents, \"+\"mean=\"+str(\"%.12f\" % mean)+\", \"+\"std=\"+str(\"%.12f\" % std));\n",
      "  return;\n",
      "\n",
      "def main():\n",
      "  NTrials=1000000;\n",
      "  #all values are in cents\n",
      "  for ItemValue in [25,100,1000]: GenerateChangeList(NTrials,ItemValue);\n",
      "  return;\n",
      "\n",
      "main();"
     ],
     "language": "python",
     "metadata": {},
     "outputs": [
      {
       "output_type": "stream",
       "stream": "stdout",
       "text": [
        "NTrials=1000000, Transaction Value=25 cents, mean=16.302420000000, std=14.171301639052\n",
        "NTrials=1000000, Transaction Value=100 cents, mean=15.690730000000, std=13.986040113886"
       ]
      },
      {
       "output_type": "stream",
       "stream": "stdout",
       "text": [
        "\n",
        "NTrials=1000000, Transaction Value=1000 cents, mean=17.385189000000, std=14.150300224183"
       ]
      },
      {
       "output_type": "stream",
       "stream": "stdout",
       "text": [
        "\n"
       ]
      }
     ],
     "prompt_number": 15
    }
   ],
   "metadata": {}
  }
 ]
}